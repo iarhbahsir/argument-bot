{
 "cells": [
  {
   "cell_type": "markdown",
   "metadata": {},
   "source": [
    "# Overview\n",
    "We will be creating an argumentative chatbot based on this dataset: https://nlds.soe.ucsc.edu/iac "
   ]
  },
  {
   "cell_type": "markdown",
   "metadata": {},
   "source": [
    "# 1. Create the raw input-output pairs from the dataset \n",
    "\n",
    "We begin by converting the arguments dataset into a format useful to us. The dataset contains various features, but we're primarily concerned with creating parent-child (statement-response or input-output) post pairs. Because the posts are not necessarily replying to their direct predecessor in the discussion (and thus in the JSON), we will have to keep track of the post id and parent id for each post to create pairings."
   ]
  },
  {
   "cell_type": "code",
   "execution_count": 1,
   "metadata": {},
   "outputs": [],
   "source": [
    "import json\n",
    "import os\n",
    "import re\n",
    "import time\n",
    "import pickle"
   ]
  },
  {
   "cell_type": "code",
   "execution_count": 2,
   "metadata": {},
   "outputs": [
    {
     "name": "stdout",
     "output_type": "stream",
     "text": [
      "Building metadata (Part 1/2)...\n",
      "Processing file 0 of 11800...\n",
      "Processing file 1180 of 11800...\n",
      "Processing file 2360 of 11800...\n",
      "Processing file 3540 of 11800...\n",
      "Processing file 4720 of 11800...\n",
      "Processing file 5900 of 11800...\n",
      "Processing file 7080 of 11800...\n",
      "Processing file 8260 of 11800...\n",
      "Processing file 9440 of 11800...\n",
      "Processing file 10620 of 11800...\n",
      "Saving metadata (Part 2/2)...\n",
      "Finished processing files!\n",
      "Total elapsed time: 6.684291124343872\n"
     ]
    }
   ],
   "source": [
    "id_to_text = {}\n",
    "parent_to_child_ids = []\n",
    "my_data_dir = \"./data/\"\n",
    "my_data_dir_full = os.path.join(os.getcwd(), my_data_dir)\n",
    "if not os.path.isdir(my_data_dir_full):\n",
    "    os.mkdir(my_data_dir_full)\n",
    "build_pairs = True\n",
    "\n",
    "if build_pairs:\n",
    "    data_dir = \"./iac_v1.1/data/fourforums/discussions/\"\n",
    "    \n",
    "    discussion_filepaths = [os.path.join(data_dir, file) for file in os.listdir(data_dir)]\n",
    "\n",
    "    print(\"Building metadata (Part 1/2)...\")\n",
    "    curr_file_num = 0\n",
    "    start_time = time.time()\n",
    "    for discussion_filepath in discussion_filepaths:\n",
    "        if curr_file_num % (len(discussion_filepaths)//10) == 0:\n",
    "            print(\"Processing file {} of {}...\".format(curr_file_num, len(discussion_filepaths)))\n",
    "        curr_file_num += 1\n",
    "        with open(discussion_filepath, 'r') as discussion_file:\n",
    "            discussion = json.load(discussion_file)[0]\n",
    "            for post in discussion:\n",
    "                post_id = post[0]\n",
    "                post_parent_id = post[5]\n",
    "                post_text = post[3]\n",
    "                id_to_text[post_id] = post_text\n",
    "                if post_parent_id:\n",
    "                    parent_to_child_ids.append((post_parent_id, post_id))\n",
    "\n",
    "    print(\"Saving metadata (Part 2/2)...\")\n",
    "    with open(os.path.join(my_data_dir, 'id_to_text.pkl'), 'wb') as id_to_text_file:\n",
    "        pickle.dump(id_to_text, id_to_text_file, pickle.HIGHEST_PROTOCOL)\n",
    "        \n",
    "    with open(os.path.join(my_data_dir, 'parent_to_child_ids.pkl'), 'wb') as parent_to_child_ids_file:\n",
    "        pickle.dump(parent_to_child_ids, parent_to_child_ids_file, pickle.HIGHEST_PROTOCOL)\n",
    "\n",
    "    print(\"Finished processing files!\\nTotal elapsed time: {}\".format(time.time() - start_time))"
   ]
  },
  {
   "cell_type": "markdown",
   "metadata": {},
   "source": [
    "# 2. Convert raw input-output pairs into feedable format for training"
   ]
  },
  {
   "cell_type": "code",
   "execution_count": 3,
   "metadata": {},
   "outputs": [],
   "source": [
    "import spacy\n",
    "import torchtext\n",
    "import pandas as pd\n",
    "import sklearn\n",
    "import sklearn.model_selection\n",
    "import matplotlib.pyplot as plt \n",
    "import numpy as np"
   ]
  },
  {
   "cell_type": "code",
   "execution_count": 4,
   "metadata": {},
   "outputs": [],
   "source": [
    "with open(os.path.join(my_data_dir, 'id_to_text.pkl'), 'rb') as id_to_text_file:\n",
    "    id_to_text = pickle.load(id_to_text_file)\n",
    "\n",
    "with open(os.path.join(my_data_dir, 'parent_to_child_ids.pkl'), 'rb') as parent_to_child_ids_file:\n",
    "    parent_to_child_ids = pickle.load(parent_to_child_ids_file)"
   ]
  },
  {
   "cell_type": "code",
   "execution_count": 5,
   "metadata": {},
   "outputs": [
    {
     "name": "stdout",
     "output_type": "stream",
     "text": [
      "Mean post length: 193.52459662557845\n",
      "Min post length: 1\n",
      "Max post length: 12347\n",
      "Post length standard deviation: 292.1808739716809\n",
      "Percentage of posts shorter than 200 words: 0.717584155780335\n"
     ]
    },
    {
     "data": {
      "image/png": "[encoded data removed]",
      "text/plain": [
       "<Figure size 432x288 with 1 Axes>"
      ]
     },
     "metadata": {
      "needs_background": "light"
     },
     "output_type": "display_data"
    }
   ],
   "source": [
    "post_lengths = {post_id: len(post.split(' ')) for post_id, post  in id_to_text.items()}\n",
    "\n",
    "print(\"Mean post length: {}\".format(np.mean(list(post_lengths.values()))))\n",
    "print(\"Min post length: {}\".format(np.min(list(post_lengths.values()))))\n",
    "print(\"Max post length: {}\".format(np.max(list(post_lengths.values()))))\n",
    "print(\"Post length standard deviation: {}\".format(np.std(list(post_lengths.values()))))\n",
    "\n",
    "max_post_length = 200\n",
    "print(\"Percentage of posts shorter than {} words: {}\".format(max_post_length, np.mean([post_length < max_post_length for post_length in post_lengths.values()])))\n",
    "plt.hist(list(post_lengths.values()))\n",
    "plt.show()"
   ]
  },
  {
   "cell_type": "code",
   "execution_count": 6,
   "metadata": {},
   "outputs": [
    {
     "name": "stdout",
     "output_type": "stream",
     "text": [
      "Mean ratio: 2.9412882069147175\n",
      "Min ratio: 0.00038299502106472615\n",
      "Max ratio: 4746.0\n",
      "Ratio standard deviation: 19.61325095885775\n",
      "Percentage of ratios greater than 3: 0.16417087177754788\n",
      "Percentage of ratios less than 0.33: 0.11400776977809683\n"
     ]
    },
    {
     "data": {
      "image/png": "[encoded data removed]",
      "text/plain": [
       "<Figure size 432x288 with 1 Axes>"
      ]
     },
     "metadata": {
      "needs_background": "light"
     },
     "output_type": "display_data"
    }
   ],
   "source": [
    "post_length_ratios = [post_lengths[parent_id]/post_lengths[child_id] for parent_id, child_id in parent_to_child_ids]\n",
    "\n",
    "print(\"Mean ratio: {}\".format(np.mean(post_length_ratios)))\n",
    "print(\"Min ratio: {}\".format(np.min(post_length_ratios)))\n",
    "print(\"Max ratio: {}\".format(np.max(post_length_ratios)))\n",
    "print(\"Ratio standard deviation: {}\".format(np.std(post_length_ratios)))\n",
    "\n",
    "max_post_length_ratio = 3\n",
    "min_post_length_ratio = 0.33\n",
    "print(\"Percentage of ratios greater than {}: {}\".format(max_post_length_ratio, np.mean([post_length_ratio > max_post_length_ratio for post_length_ratio in post_length_ratios])))\n",
    "print(\"Percentage of ratios less than {}: {}\".format(min_post_length_ratio, np.mean([post_length_ratio < min_post_length_ratio for post_length_ratio in post_length_ratios])))\n",
    "plt.hist(post_length_ratios)\n",
    "plt.show()        "
   ]
  },
  {
   "cell_type": "code",
   "execution_count": 7,
   "metadata": {},
   "outputs": [],
   "source": [
    "nlp = spacy.load(\"en_core_web_sm\")"
   ]
  },
  {
   "cell_type": "code",
   "execution_count": 8,
   "metadata": {},
   "outputs": [],
   "source": [
    "def light_tokenizer(post):\n",
    "    return [token.text for token in nlp(post, disable=['parser', 'tagger', 'ner'])]\n",
    "\n",
    "post_field = torchtext.data.Field(tokenize=light_tokenizer, init_token='<sos>', eos_token='<eos>', lower=True)"
   ]
  },
  {
   "cell_type": "code",
   "execution_count": 9,
   "metadata": {},
   "outputs": [
    {
     "name": "stdout",
     "output_type": "stream",
     "text": [
      "Percentage of data retained: 45.765945991596816\n"
     ]
    }
   ],
   "source": [
    "build_csv = True\n",
    "\n",
    "if build_csv:\n",
    "    with open(os.path.join(my_data_dir, 'id_to_text.pkl'), 'rb') as id_to_text_file:\n",
    "        id_to_text = pickle.load(id_to_text_file)\n",
    "\n",
    "    with open(os.path.join(my_data_dir, 'parent_to_child_ids.pkl'), 'rb') as parent_to_child_ids_file:\n",
    "        parent_to_child_ids = pickle.load(parent_to_child_ids_file)\n",
    "\n",
    "    pairs = {'parent_post': [], 'child_post': []}\n",
    "    for parent_post_id, child_post_id in parent_to_child_ids:\n",
    "        parent_post_length = len(id_to_text[parent_post_id].split(' '))\n",
    "        child_post_length = len(id_to_text[child_post_id].split(' '))\n",
    "        \n",
    "        if parent_post_length < max_post_length and child_post_length < max_post_length and parent_post_length/child_post_length <= max_post_length_ratio and parent_post_length/child_post_length >= min_post_length_ratio:\n",
    "            # TODO: check for large difference in post length\n",
    "            pairs['parent_post'].append(id_to_text[parent_post_id])\n",
    "            pairs['child_post'].append(id_to_text[child_post_id])\n",
    "\n",
    "    print(\"Percentage of data retained: {}\".format(len(pairs['parent_post']) *100 / len(parent_to_child_ids)))\n",
    "    pairs_df = pd.DataFrame(pairs, columns=['parent_post', 'child_post'])\n",
    "    train, test = sklearn.model_selection.train_test_split(pairs_df, test_size=0.2)\n",
    "\n",
    "    train.to_csv(os.path.join(my_data_dir, 'train.csv'), index=False)\n",
    "    test.to_csv(os.path.join(my_data_dir, 'test.csv'), index=False)"
   ]
  },
  {
   "cell_type": "code",
   "execution_count": 10,
   "metadata": {},
   "outputs": [
    {
     "name": "stdout",
     "output_type": "stream",
     "text": [
      "Building datasets...\n",
      "Datasets built! Time elapsed: 198.88171911239624\n",
      "Building vocabulary...\n",
      "Vocabulary built! Time elapsed: 4.872278928756714\n",
      "Vocabulary size: 91919\n"
     ]
    }
   ],
   "source": [
    "print(\"Building datasets...\")\n",
    "dataset_start_time = time.time()\n",
    "pair_fields = [('parent_post', post_field), ('child_post', post_field)]\n",
    "train_set, test_set = torchtext.data.TabularDataset.splits(path=my_data_dir, train='train.csv', test='test.csv', format='csv', fields=pair_fields)\n",
    "print(\"Datasets built! Time elapsed: {}\".format(time.time()-dataset_start_time))\n",
    "\n",
    "print(\"Building vocabulary...\")\n",
    "vocab_start_time = time.time()\n",
    "post_field.build_vocab(train_set, min_freq=2)\n",
    "print(\"Vocabulary built! Time elapsed: {}\".format(time.time()-vocab_start_time))\n",
    "print(\"Vocabulary size: {}\".format(len(post_field.vocab)))"
   ]
  },
  {
   "cell_type": "code",
   "execution_count": 11,
   "metadata": {},
   "outputs": [],
   "source": [
    "import torch"
   ]
  },
  {
   "cell_type": "code",
   "execution_count": 12,
   "metadata": {},
   "outputs": [],
   "source": [
    "device = torch.device('cuda' if torch.cuda.is_available() else 'cpu')\n",
    "cpu_device = torch.device('cpu')\n",
    "train_set_iterator, test_set_iterator = torchtext.data.BucketIterator.splits((train_set, test_set), batch_size=16, device=device, shuffle=True, sort_key=lambda pair: len(pair.parent_post))"
   ]
  },
  {
   "cell_type": "markdown",
   "metadata": {},
   "source": [
    "# 3. Create the seq2seq model"
   ]
  },
  {
   "cell_type": "code",
   "execution_count": 13,
   "metadata": {},
   "outputs": [],
   "source": [
    "import random"
   ]
  },
  {
   "cell_type": "code",
   "execution_count": 14,
   "metadata": {},
   "outputs": [],
   "source": [
    "class Seq2SeqEncoder(torch.nn.Module):\n",
    "    def __init__(self, input_size, embedding_size, hidden_layer_size, num_hidden_layers, dropout_rate):\n",
    "        super(Seq2SeqEncoder, self).__init__()\n",
    "        self.embedding = torch.nn.Embedding(input_size, embedding_size)\n",
    "        self.rnn = torch.nn.LSTM(embedding_size, hidden_layer_size, num_hidden_layers, dropout=dropout_rate)\n",
    "        self.dropout = torch.nn.Dropout(dropout_rate)\n",
    "        \n",
    "    def forward(self, encoder_input):\n",
    "        output, (hidden_state, cell) = self.rnn(self.dropout(self.embedding(encoder_input)))\n",
    "        return hidden_state, cell\n",
    "        \n",
    "class Seq2SeqDecoder(torch.nn.Module):\n",
    "    def __init__(self, input_size, embedding_size, hidden_layer_size, num_hidden_layers, output_size, dropout_rate):\n",
    "        super(Seq2SeqDecoder, self).__init__()\n",
    "        self.embedding = torch.nn.Embedding(input_size, embedding_size)\n",
    "        self.rnn = torch.nn.LSTM(embedding_size, hidden_layer_size, num_hidden_layers, dropout=dropout_rate)\n",
    "        self.output_size = output_size\n",
    "        self.out = torch.nn.Linear(hidden_layer_size, output_size)\n",
    "        self.dropout = torch.nn.Dropout(dropout_rate)\n",
    "    \n",
    "    def forward(self, decoder_input, hidden_state, cell):\n",
    "        output, (hidden_state, cell) = self.rnn(self.dropout(self.embedding(decoder_input.unsqueeze(0))), (hidden_state, cell))\n",
    "        return self.out(output.squeeze(0)), hidden_state, cell \n",
    "    \n",
    "class Seq2Seq(torch.nn.Module):\n",
    "    def __init__(self, encoder_net, decoder_net):\n",
    "        super(Seq2Seq, self).__init__()\n",
    "        self.encoder_net = encoder_net\n",
    "        self.decoder_net = decoder_net\n",
    "        \n",
    "    def forward(self, source, target, teacher_forcing_ratio=0.5):\n",
    "        batch_size = target.shape[1]\n",
    "        max_len = target.shape[0]\n",
    "        vocab_size = self.decoder_net.output_size\n",
    "        s2s_outputs = torch.zeros(max_len, batch_size, vocab_size).to(device)\n",
    "        \n",
    "        hidden_state, cell = self.encoder_net(source)\n",
    "        decoder_input = target[0,:]\n",
    "        for token_index in range(1, max_len):\n",
    "            output, hidden_state, cell = self.decoder_net(decoder_input, hidden_state, cell)\n",
    "            s2s_outputs[token_index] = output\n",
    "            if random.random() < teacher_forcing_ratio:\n",
    "                decoder_input = target[token_index]\n",
    "            else:\n",
    "                decoder_input = output.argmax(1)\n",
    "        \n",
    "        return s2s_outputs"
   ]
  },
  {
   "cell_type": "code",
   "execution_count": 15,
   "metadata": {},
   "outputs": [],
   "source": [
    "# Hyperparameters\n",
    "input_size = output_size = len(post_field.vocab)\n",
    "embedding_size = 128\n",
    "hidden_layer_size = 256\n",
    "num_hidden_layers = 2\n",
    "dropout_rate = 0.5\n",
    "\n",
    "# print(torch.cuda.memory_allocated(device=0)/(10**9))\n",
    "encoder_net = Seq2SeqEncoder(input_size, embedding_size, hidden_layer_size, num_hidden_layers, dropout_rate)\n",
    "# print(torch.cuda.memory_allocated(device=0)/(10**9))\n",
    "decoder_net = Seq2SeqDecoder(input_size, embedding_size, hidden_layer_size, num_hidden_layers, output_size, dropout_rate)\n",
    "# print(torch.cuda.memory_allocated(device=0)/(10**9))\n",
    "seq2seq_net = Seq2Seq(encoder_net, decoder_net).to(device)"
   ]
  },
  {
   "cell_type": "markdown",
   "metadata": {},
   "source": [
    "# 4. Train the seq2seq model"
   ]
  },
  {
   "cell_type": "code",
   "execution_count": 16,
   "metadata": {},
   "outputs": [],
   "source": [
    "optimizer = torch.optim.Adam(seq2seq_net.parameters())\n",
    "padding_index = post_field.vocab.stoi['<pad>']\n",
    "loss_function = torch.nn.CrossEntropyLoss(ignore_index=padding_index)"
   ]
  },
  {
   "cell_type": "code",
   "execution_count": 17,
   "metadata": {},
   "outputs": [],
   "source": [
    "models_directory = os.path.join(os.getcwd(), my_data_dir, 'models/')\n",
    "if not os.path.isdir(models_directory):\n",
    "    os.mkdir(models_directory)\n",
    "\n",
    "run_name = \"v3-small\"\n",
    "run_models_directory = os.path.join(os.getcwd(), my_data_dir, 'models/{}'.format(run_name))\n",
    "if not os.path.isdir(run_models_directory):\n",
    "    os.mkdir(run_models_directory)"
   ]
  },
  {
   "cell_type": "code",
   "execution_count": 18,
   "metadata": {},
   "outputs": [],
   "source": [
    "max_clip = 1\n",
    "def train(seq2seq_net, train_set_iterator, optimizer, loss_function, max_clip, writer, epoch_num):\n",
    "    seq2seq_net.train()\n",
    "    total_loss = 0\n",
    "    time_train = time.time()\n",
    "    inner_min_loss = float('inf')\n",
    "    iterator_length = len(train_set_iterator)\n",
    "    for i, batch in enumerate(train_set_iterator):\n",
    "        parent_post = batch.parent_post\n",
    "        child_post = batch.child_post\n",
    "        if i % 10 == 0:\n",
    "            print('train: {} of {} in epoch {}'.format(i, iterator_length, epoch_num))\n",
    "#         print('1', torch.cuda.memory_allocated(device=0)/(10**9))\n",
    "        optimizer.zero_grad()\n",
    "        response = seq2seq_net(parent_post, child_post, 0.5)\n",
    "#         print('2', torch.cuda.memory_allocated(device=0)/(10**9))\n",
    "        response = response[1:].view(-1, response.shape[-1])\n",
    "        child_post = child_post[1:].view(-1)\n",
    "        \n",
    "        loss = loss_function(response, child_post)\n",
    "        loss.backward()\n",
    "        torch.nn.utils.clip_grad_norm_(seq2seq_net.parameters(), max_clip)\n",
    "        optimizer.step()\n",
    "        total_loss += loss.item()\n",
    "        inner_loss_scalar = loss.detach().to(cpu_device).numpy().squeeze()\n",
    "#         print('3', torch.cuda.memory_allocated(device=0)/(10**9))\n",
    "#         response = response.detach()\n",
    "#         del response\n",
    "        if i % (len(train_set_iterator) // 10) == 0 or i == len(train_set_iterator) - 1:\n",
    "            writer.add_scalar('Loss/train', inner_loss_scalar, epoch_num*len(train_set_iterator)+i)\n",
    "            if (inner_loss_scalar < inner_min_loss):\n",
    "                torch.save(seq2seq_net.state_dict(), os.path.join(my_data_dir, 'models/{}/best-inner-model-train-{}.pt'.format(run_name, epoch_num)))\n",
    "                torch.save(encoder_net.state_dict(), os.path.join(my_data_dir, 'models/{}/best-encoder-inner-model-train-{}.pt'.format(run_name, epoch_num)))\n",
    "                torch.save(decoder_net.state_dict(), os.path.join(my_data_dir, 'models/{}/best-decoder-inner-model-train-{}.pt'.format(run_name, epoch_num)))\n",
    "                lowest_loss_train = inner_loss_scalar\n",
    "            \n",
    "        print(\"total time for epoch so far: {}\".format(time.time() - time_train))\n",
    "    \n",
    "    return total_loss/len(train_set_iterator)\n",
    "\n",
    "def test(seq2seq_net, test_set_iterator, loss_function, writer, epoch_num):\n",
    "    seq2seq_net.eval()\n",
    "    total_loss = 0\n",
    "    time_test = time.time()\n",
    "    iterator_length = len(test_set_iterator)\n",
    "    for i, batch in enumerate(test_set_iterator):\n",
    "        parent_post = batch.parent_post\n",
    "        child_post = batch.child_post\n",
    "        \n",
    "        if i % 10 == 0:\n",
    "            print('test: {} of {} in epoch {}'.format(i, iterator_length, epoch_num))\n",
    "#         print('1', torch.cuda.memory_allocated(device=0)/(10**9))\n",
    "        response = seq2seq_net(parent_post, child_post, 0)\n",
    "#         print('2', torch.cuda.memory_allocated(device=0)/(10**9))\n",
    "        response = response[1:].view(-1, response.shape[-1])\n",
    "        child_post = child_post[1:].view(-1)\n",
    "        \n",
    "        loss = loss_function(response, child_post)\n",
    "        total_loss += loss.item()\n",
    "        print(\"total time for epoch so far: {}\".format(time.time() - time_train))\n",
    "#         response = response.detach()\n",
    "#         del response\n",
    "#         print('3', torch.cuda.memory_allocated(device=0)/(10**9))\n",
    "        if i % (len(test_set_iterator) // 10) == 0:\n",
    "            writer.add_scalar('Loss/test', loss.detach().to(cpu_device).numpy().squeeze(), epoch_num*len(test_set_iterator)+i)\n",
    "        \n",
    "    return total_loss/len(test_set_iterator)"
   ]
  },
  {
   "cell_type": "code",
   "execution_count": 19,
   "metadata": {},
   "outputs": [],
   "source": [
    "import torch.utils.tensorboard"
   ]
  },
  {
   "cell_type": "code",
   "execution_count": null,
   "metadata": {},
   "outputs": [],
   "source": [
    "writer = torch.utils.tensorboard.SummaryWriter(log_dir=os.path.join(my_data_dir, \"runs/{}\".format(run_name)))\n",
    "num_epochs = 10\n",
    "\n",
    "lowest_loss_train = float('inf')\n",
    "lowest_loss_test = float('inf')\n",
    "print(torch.cuda.memory_allocated(device=0)/(10**9))\n",
    "print(\"Beginning training...\")\n",
    "training_start_time = time.time()\n",
    "for epoch in range(num_epochs):\n",
    "    print(\"Starting epoch {}...\".format(epoch))\n",
    "    \n",
    "    epoch_start_time = time.time()\n",
    "    loss_train = train(seq2seq_net, train_set_iterator, optimizer, loss_function, max_clip, writer, epoch)\n",
    "    print(\"epoch train\", torch.cuda.memory_allocated(device=0)/(10**9))\n",
    "    loss_test = test(seq2seq_net, test_set_iterator, loss_function, writer, epoch)\n",
    "    print(\"epoch test\", torch.cuda.memory_allocated(device=0)/(10**9))\n",
    "    loss_train_scalar = loss_train.detach().to(cpu_device).numpy().squeeze()\n",
    "    loss_test_scalar = loss_test.detach().to(cpu_device).numpy().squeeze()\n",
    "    writer.add_scalar('Loss/train', loss_train_scalar, epoch)\n",
    "    writer.add_scalar('Loss/test', loss_test_scalar, epoch)\n",
    "    \n",
    "    print(\"Epoch training duration: {}\".format(time.time()-epoch_start_time))\n",
    "    print(\"Updating models...\")\n",
    "    \n",
    "    if loss_train_scalar <= lowest_loss_train:\n",
    "        torch.save(seq2seq_net.state_dict(), os.path.join(my_data_dir, 'models/{}/best-model-train.pt'.format(run_name)))\n",
    "        torch.save(encoder_net.state_dict(), os.path.join(my_data_dir, 'models/{}/best-encoder-model-train.pt'.format(run_name)))\n",
    "        torch.save(decoder_net.state_dict(), os.path.join(my_data_dir, 'models/{}/best-decoder-model-train.pt'.format(run_name)))\n",
    "        lowest_loss_train = loss_train_scalar\n",
    "    if loss_test_scalar <= lowest_loss_test:\n",
    "        torch.save(seq2seq_net.state_dict(), os.path.join(my_data_dir, 'models/{}/best-model-test.pt'.format(run_name)))\n",
    "        torch.save(encoder_net.state_dict(), os.path.join(my_data_dir, 'models/{}/best-encoder-model-test.pt'.format(run_name)))\n",
    "        torch.save(decoder_net.state_dict(), os.path.join(my_data_dir, 'models/{}/best-decoder-model-test.pt'.format(run_name)))\n",
    "        lowest_loss_test = loss_test_scalar\n",
    "    \n",
    "    print(\"Total elapsed time: {}\".format(time.time()-training_start_time))\n",
    "    \n",
    "\n",
    "print(\"Finished training!\")"
   ]
  },
  {
   "cell_type": "code",
   "execution_count": null,
   "metadata": {},
   "outputs": [],
   "source": []
  }
 ],
 "metadata": {
  "kernelspec": {
   "display_name": "Python 3",
   "language": "python",
   "name": "python3"
  },
  "language_info": {
   "codemirror_mode": {
    "name": "ipython",
    "version": 3
   },
   "file_extension": ".py",
   "mimetype": "text/x-python",
   "name": "python",
   "nbconvert_exporter": "python",
   "pygments_lexer": "ipython3",
   "version": "3.7.3"
  }
 },
 "nbformat": 4,
 "nbformat_minor": 2
}
